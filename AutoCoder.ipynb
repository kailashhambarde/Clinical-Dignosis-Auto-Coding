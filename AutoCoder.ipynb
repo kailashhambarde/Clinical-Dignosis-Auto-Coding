{
  "nbformat": 4,
  "nbformat_minor": 0,
  "metadata": {
    "colab": {
      "name": "AutoCoder",
      "provenance": [],
      "collapsed_sections": []
    },
    "kernelspec": {
      "name": "python3",
      "display_name": "Python 3"
    },
    "language_info": {
      "name": "python"
    }
  },
  "cells": [
    {
      "cell_type": "markdown",
      "metadata": {
        "id": "l_NBjCLv8Dcp"
      },
      "source": [
        "**Link** **Data**"
      ]
    },
    {
      "cell_type": "code",
      "metadata": {
        "colab": {
          "base_uri": "https://localhost:8080/"
        },
        "id": "iT9nPMMT617K",
        "outputId": "6ebae0a1-e1c6-4376-c4a4-2dee4b2e1cf0"
      },
      "source": [
        "from google.colab import drive\n",
        "drive.mount('/content/drive')\n",
        "drive.mount(\"/content/drive\", force_remount=True)"
      ],
      "execution_count": 1,
      "outputs": [
        {
          "output_type": "stream",
          "name": "stdout",
          "text": [
            "Mounted at /content/drive\n",
            "Mounted at /content/drive\n"
          ]
        }
      ]
    },
    {
      "cell_type": "code",
      "metadata": {
        "id": "Lu4J1qsc7Nw2"
      },
      "source": [
        "  DATASET_PATH =\"/content/drive/My Drive//ICD10/sample data.csv\""
      ],
      "execution_count": 6,
      "outputs": []
    },
    {
      "cell_type": "markdown",
      "metadata": {
        "id": "cJhsPHFs8QMG"
      },
      "source": [
        "**import packages**"
      ]
    },
    {
      "cell_type": "code",
      "metadata": {
        "colab": {
          "base_uri": "https://localhost:8080/"
        },
        "id": "Hr-Oy9GM8Jyc",
        "outputId": "85d04327-9758-4ae7-e17a-4d836ff311eb"
      },
      "source": [
        "import pandas as pd\n",
        "import re\n",
        "import nltk\n",
        "nltk.download('stopwords')\n",
        "# Setup\n",
        "!pip install -q wordcloud\n",
        "import wordcloud\n",
        "\n",
        "import nltk\n",
        "nltk.download('stopwords')\n",
        "nltk.download('wordnet')\n",
        "nltk.download('punkt')\n",
        "nltk.download('averaged_perceptron_tagger') \n",
        "\n",
        "import pandas as pd\n",
        "import matplotlib.pyplot as plt\n",
        "import io\n",
        "import unicodedata\n",
        "import numpy as np\n",
        "import re\n",
        "import string\n"
      ],
      "execution_count": 2,
      "outputs": [
        {
          "output_type": "stream",
          "name": "stdout",
          "text": [
            "[nltk_data] Downloading package stopwords to /root/nltk_data...\n",
            "[nltk_data]   Unzipping corpora/stopwords.zip.\n",
            "[nltk_data] Downloading package stopwords to /root/nltk_data...\n",
            "[nltk_data]   Package stopwords is already up-to-date!\n",
            "[nltk_data] Downloading package wordnet to /root/nltk_data...\n",
            "[nltk_data]   Unzipping corpora/wordnet.zip.\n",
            "[nltk_data] Downloading package punkt to /root/nltk_data...\n",
            "[nltk_data]   Unzipping tokenizers/punkt.zip.\n",
            "[nltk_data] Downloading package averaged_perceptron_tagger to\n",
            "[nltk_data]     /root/nltk_data...\n",
            "[nltk_data]   Unzipping taggers/averaged_perceptron_tagger.zip.\n"
          ]
        }
      ]
    },
    {
      "cell_type": "code",
      "metadata": {
        "id": "XlDiSjzaChEc"
      },
      "source": [
        "import seaborn as sns\n",
        "from sklearn.model_selection import train_test_split\n",
        "from sklearn.preprocessing import LabelEncoder\n",
        "from keras.models import Model\n",
        "from keras.layers import LSTM, Activation, Dense, Dropout, Input, Embedding\n",
        "from keras.preprocessing.text import Tokenizer\n",
        "from keras.preprocessing import sequence\n",
        "from keras.callbacks import EarlyStopping\n",
        "%matplotlib inline"
      ],
      "execution_count": 3,
      "outputs": []
    },
    {
      "cell_type": "code",
      "metadata": {
        "id": "V23yhKCpDgZi"
      },
      "source": [
        "from keras.preprocessing.sequence import pad_sequences"
      ],
      "execution_count": 4,
      "outputs": []
    },
    {
      "cell_type": "code",
      "metadata": {
        "id": "ELqH562E8rM0"
      },
      "source": [
        "df = pd.read_csv(DATASET_PATH)"
      ],
      "execution_count": 7,
      "outputs": []
    },
    {
      "cell_type": "code",
      "metadata": {
        "colab": {
          "base_uri": "https://localhost:8080/",
          "height": 206
        },
        "id": "TyKms--N8Ko4",
        "outputId": "ea4d53e0-ab78-4f27-e0c3-a85b3aa02942"
      },
      "source": [
        "df.head()"
      ],
      "execution_count": 8,
      "outputs": [
        {
          "output_type": "execute_result",
          "data": {
            "text/html": [
              "<div>\n",
              "<style scoped>\n",
              "    .dataframe tbody tr th:only-of-type {\n",
              "        vertical-align: middle;\n",
              "    }\n",
              "\n",
              "    .dataframe tbody tr th {\n",
              "        vertical-align: top;\n",
              "    }\n",
              "\n",
              "    .dataframe thead th {\n",
              "        text-align: right;\n",
              "    }\n",
              "</style>\n",
              "<table border=\"1\" class=\"dataframe\">\n",
              "  <thead>\n",
              "    <tr style=\"text-align: right;\">\n",
              "      <th></th>\n",
              "      <th>A000</th>\n",
              "      <th>Cholera due to Vibrio cholerae 01, biovar cholerae</th>\n",
              "    </tr>\n",
              "  </thead>\n",
              "  <tbody>\n",
              "    <tr>\n",
              "      <th>0</th>\n",
              "      <td>A001</td>\n",
              "      <td>Cholera due to Vibrio cholerae 01, biovar eltor</td>\n",
              "    </tr>\n",
              "    <tr>\n",
              "      <th>1</th>\n",
              "      <td>A009</td>\n",
              "      <td>Cholera, unspecified</td>\n",
              "    </tr>\n",
              "    <tr>\n",
              "      <th>2</th>\n",
              "      <td>A0100</td>\n",
              "      <td>Typhoid fever, unspecified</td>\n",
              "    </tr>\n",
              "    <tr>\n",
              "      <th>3</th>\n",
              "      <td>A0101</td>\n",
              "      <td>Typhoid meningitis</td>\n",
              "    </tr>\n",
              "    <tr>\n",
              "      <th>4</th>\n",
              "      <td>A0102</td>\n",
              "      <td>Typhoid fever with heart involvement</td>\n",
              "    </tr>\n",
              "  </tbody>\n",
              "</table>\n",
              "</div>"
            ],
            "text/plain": [
              "    A000 Cholera due to Vibrio cholerae 01, biovar cholerae\n",
              "0   A001    Cholera due to Vibrio cholerae 01, biovar eltor\n",
              "1   A009                               Cholera, unspecified\n",
              "2  A0100                         Typhoid fever, unspecified\n",
              "3  A0101                                 Typhoid meningitis\n",
              "4  A0102               Typhoid fever with heart involvement"
            ]
          },
          "metadata": {},
          "execution_count": 8
        }
      ]
    },
    {
      "cell_type": "code",
      "metadata": {
        "id": "je06vHx08SVQ"
      },
      "source": [
        "#give columns names\n",
        "df.columns =['Code', 'Desc']\n"
      ],
      "execution_count": 9,
      "outputs": []
    },
    {
      "cell_type": "code",
      "metadata": {
        "colab": {
          "base_uri": "https://localhost:8080/",
          "height": 206
        },
        "id": "wQslw_ER9TSE",
        "outputId": "c2c1b09c-16dd-4846-f41e-aa62c61c5081"
      },
      "source": [
        "df.head()"
      ],
      "execution_count": 10,
      "outputs": [
        {
          "output_type": "execute_result",
          "data": {
            "text/html": [
              "<div>\n",
              "<style scoped>\n",
              "    .dataframe tbody tr th:only-of-type {\n",
              "        vertical-align: middle;\n",
              "    }\n",
              "\n",
              "    .dataframe tbody tr th {\n",
              "        vertical-align: top;\n",
              "    }\n",
              "\n",
              "    .dataframe thead th {\n",
              "        text-align: right;\n",
              "    }\n",
              "</style>\n",
              "<table border=\"1\" class=\"dataframe\">\n",
              "  <thead>\n",
              "    <tr style=\"text-align: right;\">\n",
              "      <th></th>\n",
              "      <th>Code</th>\n",
              "      <th>Desc</th>\n",
              "    </tr>\n",
              "  </thead>\n",
              "  <tbody>\n",
              "    <tr>\n",
              "      <th>0</th>\n",
              "      <td>A001</td>\n",
              "      <td>Cholera due to Vibrio cholerae 01, biovar eltor</td>\n",
              "    </tr>\n",
              "    <tr>\n",
              "      <th>1</th>\n",
              "      <td>A009</td>\n",
              "      <td>Cholera, unspecified</td>\n",
              "    </tr>\n",
              "    <tr>\n",
              "      <th>2</th>\n",
              "      <td>A0100</td>\n",
              "      <td>Typhoid fever, unspecified</td>\n",
              "    </tr>\n",
              "    <tr>\n",
              "      <th>3</th>\n",
              "      <td>A0101</td>\n",
              "      <td>Typhoid meningitis</td>\n",
              "    </tr>\n",
              "    <tr>\n",
              "      <th>4</th>\n",
              "      <td>A0102</td>\n",
              "      <td>Typhoid fever with heart involvement</td>\n",
              "    </tr>\n",
              "  </tbody>\n",
              "</table>\n",
              "</div>"
            ],
            "text/plain": [
              "    Code                                             Desc\n",
              "0   A001  Cholera due to Vibrio cholerae 01, biovar eltor\n",
              "1   A009                             Cholera, unspecified\n",
              "2  A0100                       Typhoid fever, unspecified\n",
              "3  A0101                               Typhoid meningitis\n",
              "4  A0102             Typhoid fever with heart involvement"
            ]
          },
          "metadata": {},
          "execution_count": 10
        }
      ]
    },
    {
      "cell_type": "code",
      "metadata": {
        "colab": {
          "base_uri": "https://localhost:8080/"
        },
        "id": "8qvs5cxf9ZmD",
        "outputId": "6f8a5a89-b810-4dfb-8c10-523d9bf4bb55"
      },
      "source": [
        "df.Code.value_counts()\n"
      ],
      "execution_count": 11,
      "outputs": [
        {
          "output_type": "execute_result",
          "data": {
            "text/plain": [
              "A052     10\n",
              "A1783    10\n",
              "A1789    10\n",
              "A0222    10\n",
              "A0681    10\n",
              "         ..\n",
              "A155     10\n",
              "A060     10\n",
              "A088     10\n",
              "A0102    10\n",
              "A000      9\n",
              "Name: Code, Length: 100, dtype: int64"
            ]
          },
          "metadata": {},
          "execution_count": 11
        }
      ]
    },
    {
      "cell_type": "code",
      "metadata": {
        "colab": {
          "base_uri": "https://localhost:8080/"
        },
        "id": "IH9-FGoq969H",
        "outputId": "801a2c7b-c04a-4519-e4d3-6d60cbedebdb"
      },
      "source": [
        "df = df.reset_index(drop=True)\n",
        "stopwords = nltk.corpus.stopwords.words('english')\n",
        "import nltk\n",
        "from nltk.corpus import stopwords\n",
        "print(stopwords.words('english'))\n",
        "from nltk.corpus import stopwords"
      ],
      "execution_count": 12,
      "outputs": [
        {
          "output_type": "stream",
          "name": "stdout",
          "text": [
            "['i', 'me', 'my', 'myself', 'we', 'our', 'ours', 'ourselves', 'you', \"you're\", \"you've\", \"you'll\", \"you'd\", 'your', 'yours', 'yourself', 'yourselves', 'he', 'him', 'his', 'himself', 'she', \"she's\", 'her', 'hers', 'herself', 'it', \"it's\", 'its', 'itself', 'they', 'them', 'their', 'theirs', 'themselves', 'what', 'which', 'who', 'whom', 'this', 'that', \"that'll\", 'these', 'those', 'am', 'is', 'are', 'was', 'were', 'be', 'been', 'being', 'have', 'has', 'had', 'having', 'do', 'does', 'did', 'doing', 'a', 'an', 'the', 'and', 'but', 'if', 'or', 'because', 'as', 'until', 'while', 'of', 'at', 'by', 'for', 'with', 'about', 'against', 'between', 'into', 'through', 'during', 'before', 'after', 'above', 'below', 'to', 'from', 'up', 'down', 'in', 'out', 'on', 'off', 'over', 'under', 'again', 'further', 'then', 'once', 'here', 'there', 'when', 'where', 'why', 'how', 'all', 'any', 'both', 'each', 'few', 'more', 'most', 'other', 'some', 'such', 'no', 'nor', 'not', 'only', 'own', 'same', 'so', 'than', 'too', 'very', 's', 't', 'can', 'will', 'just', 'don', \"don't\", 'should', \"should've\", 'now', 'd', 'll', 'm', 'o', 're', 've', 'y', 'ain', 'aren', \"aren't\", 'couldn', \"couldn't\", 'didn', \"didn't\", 'doesn', \"doesn't\", 'hadn', \"hadn't\", 'hasn', \"hasn't\", 'haven', \"haven't\", 'isn', \"isn't\", 'ma', 'mightn', \"mightn't\", 'mustn', \"mustn't\", 'needn', \"needn't\", 'shan', \"shan't\", 'shouldn', \"shouldn't\", 'wasn', \"wasn't\", 'weren', \"weren't\", 'won', \"won't\", 'wouldn', \"wouldn't\"]\n"
          ]
        }
      ]
    },
    {
      "cell_type": "code",
      "metadata": {
        "id": "8gJxmNRc-QOB"
      },
      "source": [
        "REPLACE_BY_SPACE_RE = re.compile('[/(){}\\[\\]\\|@,;]')\n",
        "BAD_SYMBOLS_RE = re.compile('[^0-9a-z #+_]')\n",
        "STOPWORDS = set(stopwords.words('english'))"
      ],
      "execution_count": 14,
      "outputs": []
    },
    {
      "cell_type": "code",
      "metadata": {
        "id": "zRLXfjCm--vx"
      },
      "source": [
        "def clean_text(text):\n",
        "    \"\"\"\n",
        "        text: a string\n",
        "        \n",
        "        return: modified initial string\n",
        "    \"\"\"\n",
        "    text = text.lower() # lowercase text\n",
        "    text = REPLACE_BY_SPACE_RE.sub(' ', text) # replace REPLACE_BY_SPACE_RE symbols by space in text. substitute the matched string in REPLACE_BY_SPACE_RE with space.\n",
        "    text = BAD_SYMBOLS_RE.sub('', text) # remove symbols which are in BAD_SYMBOLS_RE from text. substitute the matched string in BAD_SYMBOLS_RE with nothing. \n",
        "    text = text.replace('x', '')\n",
        "#    text = re.sub(r'\\W+', '', text)\n",
        "    text = ' '.join(word for word in text.split() if word not in STOPWORDS) # remove stopwors from text\n",
        "    return text\n",
        "df['Desc'] = df['Desc'].apply(clean_text)\n",
        "df['Desc'] = df['Desc'].str.replace('\\d+', '')"
      ],
      "execution_count": 15,
      "outputs": []
    },
    {
      "cell_type": "code",
      "metadata": {
        "colab": {
          "base_uri": "https://localhost:8080/",
          "height": 206
        },
        "id": "0xCUjIQnAk1A",
        "outputId": "6a20f4d6-ef24-401a-e814-386ea8c80237"
      },
      "source": [
        "df.head()"
      ],
      "execution_count": 16,
      "outputs": [
        {
          "output_type": "execute_result",
          "data": {
            "text/html": [
              "<div>\n",
              "<style scoped>\n",
              "    .dataframe tbody tr th:only-of-type {\n",
              "        vertical-align: middle;\n",
              "    }\n",
              "\n",
              "    .dataframe tbody tr th {\n",
              "        vertical-align: top;\n",
              "    }\n",
              "\n",
              "    .dataframe thead th {\n",
              "        text-align: right;\n",
              "    }\n",
              "</style>\n",
              "<table border=\"1\" class=\"dataframe\">\n",
              "  <thead>\n",
              "    <tr style=\"text-align: right;\">\n",
              "      <th></th>\n",
              "      <th>Code</th>\n",
              "      <th>Desc</th>\n",
              "    </tr>\n",
              "  </thead>\n",
              "  <tbody>\n",
              "    <tr>\n",
              "      <th>0</th>\n",
              "      <td>A001</td>\n",
              "      <td>cholera due vibrio cholerae  biovar eltor</td>\n",
              "    </tr>\n",
              "    <tr>\n",
              "      <th>1</th>\n",
              "      <td>A009</td>\n",
              "      <td>cholera unspecified</td>\n",
              "    </tr>\n",
              "    <tr>\n",
              "      <th>2</th>\n",
              "      <td>A0100</td>\n",
              "      <td>typhoid fever unspecified</td>\n",
              "    </tr>\n",
              "    <tr>\n",
              "      <th>3</th>\n",
              "      <td>A0101</td>\n",
              "      <td>typhoid meningitis</td>\n",
              "    </tr>\n",
              "    <tr>\n",
              "      <th>4</th>\n",
              "      <td>A0102</td>\n",
              "      <td>typhoid fever heart involvement</td>\n",
              "    </tr>\n",
              "  </tbody>\n",
              "</table>\n",
              "</div>"
            ],
            "text/plain": [
              "    Code                                       Desc\n",
              "0   A001  cholera due vibrio cholerae  biovar eltor\n",
              "1   A009                        cholera unspecified\n",
              "2  A0100                  typhoid fever unspecified\n",
              "3  A0101                         typhoid meningitis\n",
              "4  A0102            typhoid fever heart involvement"
            ]
          },
          "metadata": {},
          "execution_count": 16
        }
      ]
    },
    {
      "cell_type": "code",
      "metadata": {
        "colab": {
          "base_uri": "https://localhost:8080/"
        },
        "id": "U-eo82JUAmAv",
        "outputId": "63fc11ef-2195-4af3-a83c-4395a85e023e"
      },
      "source": [
        "from nltk.tokenize import sent_tokenize,word_tokenize\n",
        "# The maximum number of words to be used. (most frequent)\n",
        "MAX_NB_WORDS = 50000\n",
        "# Max number of words in each complaint.\n",
        "MAX_SEQUENCE_LENGTH = 250\n",
        "# This is fixed.\n",
        "EMBEDDING_DIM = 100 \n",
        "tokenizer = Tokenizer(num_words=MAX_NB_WORDS, filters='!\"#$%&()*+,-./:;<=>?@[\\]^_`{|}~', lower=True)\n",
        "tokenizer.fit_on_texts(df['Desc'].values)\n",
        "word_index = tokenizer.word_index\n",
        "print('Found %s unique tokens.' % len(word_index))"
      ],
      "execution_count": 17,
      "outputs": [
        {
          "output_type": "stream",
          "name": "stdout",
          "text": [
            "Found 125 unique tokens.\n"
          ]
        }
      ]
    },
    {
      "cell_type": "code",
      "metadata": {
        "colab": {
          "base_uri": "https://localhost:8080/"
        },
        "id": "rDyHGOftA4v0",
        "outputId": "0ec3b6eb-b962-4929-b696-c1e73be4f81c"
      },
      "source": [
        "X = tokenizer.texts_to_sequences(df['Desc'].values)\n",
        "X = pad_sequences(X, maxlen=MAX_SEQUENCE_LENGTH)\n",
        "print('Shape of data tensor:', X.shape)"
      ],
      "execution_count": 18,
      "outputs": [
        {
          "output_type": "stream",
          "name": "stdout",
          "text": [
            "Shape of data tensor: (999, 250)\n"
          ]
        }
      ]
    },
    {
      "cell_type": "code",
      "metadata": {
        "id": "DgtpemNdB1SS"
      },
      "source": [
        "Y = pd.get_dummies(df['Code']).values"
      ],
      "execution_count": 19,
      "outputs": []
    },
    {
      "cell_type": "code",
      "metadata": {
        "colab": {
          "base_uri": "https://localhost:8080/"
        },
        "id": "wstMKRdEEXBr",
        "outputId": "a45137d9-9a36-4ae3-e7e6-34879cfbebe7"
      },
      "source": [
        "print('Shape of label tensor:', Y.shape)\n"
      ],
      "execution_count": 20,
      "outputs": [
        {
          "output_type": "stream",
          "name": "stdout",
          "text": [
            "Shape of label tensor: (999, 100)\n"
          ]
        }
      ]
    },
    {
      "cell_type": "code",
      "metadata": {
        "colab": {
          "base_uri": "https://localhost:8080/"
        },
        "id": "rgZSVRY2EXqG",
        "outputId": "d708d474-391e-4342-a299-f472a2bdc4c3"
      },
      "source": [
        "X_train, X_test, Y_train, Y_test = train_test_split(X,Y, test_size = 0.10, random_state = 42)\n",
        "print(X_train.shape,Y_train.shape)\n",
        "print(X_test.shape,Y_test.shape)"
      ],
      "execution_count": 21,
      "outputs": [
        {
          "output_type": "stream",
          "name": "stdout",
          "text": [
            "(899, 250) (899, 100)\n",
            "(100, 250) (100, 100)\n"
          ]
        }
      ]
    },
    {
      "cell_type": "code",
      "metadata": {
        "id": "aiCdaNmJE4b6"
      },
      "source": [
        "from keras import Sequential\n",
        "from keras.layers import SpatialDropout1D"
      ],
      "execution_count": 22,
      "outputs": []
    },
    {
      "cell_type": "code",
      "metadata": {
        "colab": {
          "base_uri": "https://localhost:8080/"
        },
        "id": "bcmm7ZZvEggb",
        "outputId": "69730251-8fff-498f-b18e-9fd9ae0cf35e"
      },
      "source": [
        "model = Sequential()\n",
        "model.add(Embedding(MAX_NB_WORDS, EMBEDDING_DIM, input_length=X.shape[1]))\n",
        "model.add(SpatialDropout1D(0.2))\n",
        "model.add(LSTM(100, dropout=0.2, recurrent_dropout=0.2))\n",
        "model.add(Dense(100, activation='softmax'))\n",
        "model.compile(loss='categorical_crossentropy', optimizer='adam', metrics=['accuracy'])\n",
        "\n",
        "epochs = 20\n",
        "batch_size = 64\n",
        "\n",
        "history = model.fit(X_train, Y_train, epochs=epochs, batch_size=batch_size,validation_split=0.1,callbacks=[EarlyStopping(monitor='val_loss', patience=3, min_delta=0.0001)])\n"
      ],
      "execution_count": 23,
      "outputs": [
        {
          "output_type": "stream",
          "name": "stdout",
          "text": [
            "Epoch 1/20\n",
            "13/13 [==============================] - 13s 743ms/step - loss: 4.6006 - accuracy: 0.0198 - val_loss: 4.5973 - val_accuracy: 0.0222\n",
            "Epoch 2/20\n",
            "13/13 [==============================] - 9s 698ms/step - loss: 4.5749 - accuracy: 0.1075 - val_loss: 4.5882 - val_accuracy: 0.0333\n",
            "Epoch 3/20\n",
            "13/13 [==============================] - 9s 700ms/step - loss: 4.5436 - accuracy: 0.1384 - val_loss: 4.6058 - val_accuracy: 0.0222\n",
            "Epoch 4/20\n",
            "13/13 [==============================] - 9s 704ms/step - loss: 4.4877 - accuracy: 0.1248 - val_loss: 4.5457 - val_accuracy: 0.1000\n",
            "Epoch 5/20\n",
            "13/13 [==============================] - 9s 708ms/step - loss: 4.3872 - accuracy: 0.1656 - val_loss: 4.4834 - val_accuracy: 0.1000\n",
            "Epoch 6/20\n",
            "13/13 [==============================] - 9s 703ms/step - loss: 4.1646 - accuracy: 0.1854 - val_loss: 4.2853 - val_accuracy: 0.0333\n",
            "Epoch 7/20\n",
            "13/13 [==============================] - 9s 699ms/step - loss: 3.7885 - accuracy: 0.2892 - val_loss: 3.9323 - val_accuracy: 0.2000\n",
            "Epoch 8/20\n",
            "13/13 [==============================] - 9s 705ms/step - loss: 3.3862 - accuracy: 0.3807 - val_loss: 3.4552 - val_accuracy: 0.3111\n",
            "Epoch 9/20\n",
            "13/13 [==============================] - 9s 703ms/step - loss: 2.9214 - accuracy: 0.5031 - val_loss: 3.0150 - val_accuracy: 0.3778\n",
            "Epoch 10/20\n",
            "13/13 [==============================] - 9s 700ms/step - loss: 2.4956 - accuracy: 0.6082 - val_loss: 2.5623 - val_accuracy: 0.4444\n",
            "Epoch 11/20\n",
            "13/13 [==============================] - 9s 701ms/step - loss: 2.1038 - accuracy: 0.6922 - val_loss: 2.1956 - val_accuracy: 0.5222\n",
            "Epoch 12/20\n",
            "13/13 [==============================] - 9s 708ms/step - loss: 1.7635 - accuracy: 0.7627 - val_loss: 1.8316 - val_accuracy: 0.7000\n",
            "Epoch 13/20\n",
            "13/13 [==============================] - 9s 716ms/step - loss: 1.4898 - accuracy: 0.8418 - val_loss: 1.5498 - val_accuracy: 0.7667\n",
            "Epoch 14/20\n",
            "13/13 [==============================] - 9s 714ms/step - loss: 1.2497 - accuracy: 0.9036 - val_loss: 1.2907 - val_accuracy: 0.8889\n",
            "Epoch 15/20\n",
            "13/13 [==============================] - 9s 709ms/step - loss: 1.0526 - accuracy: 0.9555 - val_loss: 1.0750 - val_accuracy: 0.9000\n",
            "Epoch 16/20\n",
            "13/13 [==============================] - 9s 712ms/step - loss: 0.8881 - accuracy: 0.9679 - val_loss: 0.8981 - val_accuracy: 0.9222\n",
            "Epoch 17/20\n",
            "13/13 [==============================] - 9s 708ms/step - loss: 0.7574 - accuracy: 0.9802 - val_loss: 0.7365 - val_accuracy: 0.9222\n",
            "Epoch 18/20\n",
            "13/13 [==============================] - 9s 706ms/step - loss: 0.6310 - accuracy: 0.9864 - val_loss: 0.6323 - val_accuracy: 0.9556\n",
            "Epoch 19/20\n",
            "13/13 [==============================] - 9s 725ms/step - loss: 0.5345 - accuracy: 0.9913 - val_loss: 0.5087 - val_accuracy: 0.9556\n",
            "Epoch 20/20\n",
            "13/13 [==============================] - 9s 710ms/step - loss: 0.4619 - accuracy: 0.9963 - val_loss: 0.4269 - val_accuracy: 1.0000\n"
          ]
        }
      ]
    },
    {
      "cell_type": "code",
      "metadata": {
        "colab": {
          "base_uri": "https://localhost:8080/"
        },
        "id": "VXoKBce1Enjz",
        "outputId": "46f4aaee-701a-4d9a-f88a-3f7e33fda900"
      },
      "source": [
        "accr = model.evaluate(X_test,Y_test)\n",
        "print('Test set\\n  Loss: {:0.3f}\\n  Accuracy: {:0.3f}'.format(accr[0],accr[1]))"
      ],
      "execution_count": 24,
      "outputs": [
        {
          "output_type": "stream",
          "name": "stdout",
          "text": [
            "4/4 [==============================] - 0s 58ms/step - loss: 0.3865 - accuracy: 1.0000\n",
            "Test set\n",
            "  Loss: 0.386\n",
            "  Accuracy: 1.000\n"
          ]
        }
      ]
    },
    {
      "cell_type": "code",
      "metadata": {
        "colab": {
          "base_uri": "https://localhost:8080/",
          "height": 281
        },
        "id": "stSpiffuJGUu",
        "outputId": "1bba9c91-c120-40b9-bb05-926ec1f5ba18"
      },
      "source": [
        "plt.title('Loss')\n",
        "plt.plot(history.history['loss'], label='train')\n",
        "plt.plot(history.history['val_loss'], label='test')\n",
        "plt.legend()\n",
        "plt.show();"
      ],
      "execution_count": 69,
      "outputs": [
        {
          "output_type": "display_data",
          "data": {
            "image/png": "[encoded data removed]",
            "text/plain": [
              "<Figure size 432x288 with 1 Axes>"
            ]
          },
          "metadata": {
            "needs_background": "light"
          }
        }
      ]
    },
    {
      "cell_type": "code",
      "metadata": {
        "id": "Uw_oIhm8JKJo"
      },
      "source": [
        ""
      ],
      "execution_count": 70,
      "outputs": []
    },
    {
      "cell_type": "code",
      "metadata": {
        "colab": {
          "base_uri": "https://localhost:8080/"
        },
        "id": "4y41A3ilJNz4",
        "outputId": "28d2e172-7051-4bdb-9f4e-47d379ff6237"
      },
      "source": [
        "new_complaint = ['tuberculosis kidney']\n",
        "seq = tokenizer.texts_to_sequences(new_complaint)\n",
        "padded = pad_sequences(seq, maxlen=MAX_SEQUENCE_LENGTH)\n",
        "pred = model.predict(padded)\n",
        "a = np.argmax(pred)\n",
        "#print(a)\n",
        "a = a-1\n",
        "print(df['Code'][a])\n",
        "print(df['Desc'][a])\n",
        "#print(np.argmax(pred))\n"
      ],
      "execution_count": 77,
      "outputs": [
        {
          "output_type": "stream",
          "name": "stdout",
          "text": [
            "A1811\n",
            "tuberculosis kidney ureter\n"
          ]
        }
      ]
    },
    {
      "cell_type": "code",
      "metadata": {
        "colab": {
          "base_uri": "https://localhost:8080/",
          "height": 424
        },
        "id": "YVSGa4_QKuge",
        "outputId": "7b86b5a4-7295-4437-fc46-901c3a2d92bf"
      },
      "source": [
        "df.head(100)"
      ],
      "execution_count": 66,
      "outputs": [
        {
          "output_type": "execute_result",
          "data": {
            "text/html": [
              "<div>\n",
              "<style scoped>\n",
              "    .dataframe tbody tr th:only-of-type {\n",
              "        vertical-align: middle;\n",
              "    }\n",
              "\n",
              "    .dataframe tbody tr th {\n",
              "        vertical-align: top;\n",
              "    }\n",
              "\n",
              "    .dataframe thead th {\n",
              "        text-align: right;\n",
              "    }\n",
              "</style>\n",
              "<table border=\"1\" class=\"dataframe\">\n",
              "  <thead>\n",
              "    <tr style=\"text-align: right;\">\n",
              "      <th></th>\n",
              "      <th>Code</th>\n",
              "      <th>Desc</th>\n",
              "    </tr>\n",
              "  </thead>\n",
              "  <tbody>\n",
              "    <tr>\n",
              "      <th>0</th>\n",
              "      <td>A001</td>\n",
              "      <td>cholera due vibrio cholerae  biovar eltor</td>\n",
              "    </tr>\n",
              "    <tr>\n",
              "      <th>1</th>\n",
              "      <td>A009</td>\n",
              "      <td>cholera unspecified</td>\n",
              "    </tr>\n",
              "    <tr>\n",
              "      <th>2</th>\n",
              "      <td>A0100</td>\n",
              "      <td>typhoid fever unspecified</td>\n",
              "    </tr>\n",
              "    <tr>\n",
              "      <th>3</th>\n",
              "      <td>A0101</td>\n",
              "      <td>typhoid meningitis</td>\n",
              "    </tr>\n",
              "    <tr>\n",
              "      <th>4</th>\n",
              "      <td>A0102</td>\n",
              "      <td>typhoid fever heart involvement</td>\n",
              "    </tr>\n",
              "    <tr>\n",
              "      <th>...</th>\n",
              "      <td>...</td>\n",
              "      <td>...</td>\n",
              "    </tr>\n",
              "    <tr>\n",
              "      <th>95</th>\n",
              "      <td>A1809</td>\n",
              "      <td>musculoskeletal tuberculosis</td>\n",
              "    </tr>\n",
              "    <tr>\n",
              "      <th>96</th>\n",
              "      <td>A1810</td>\n",
              "      <td>tuberculosis genitourinary system unspecified</td>\n",
              "    </tr>\n",
              "    <tr>\n",
              "      <th>97</th>\n",
              "      <td>A1811</td>\n",
              "      <td>tuberculosis kidney ureter</td>\n",
              "    </tr>\n",
              "    <tr>\n",
              "      <th>98</th>\n",
              "      <td>A1812</td>\n",
              "      <td>tuberculosis bladder</td>\n",
              "    </tr>\n",
              "    <tr>\n",
              "      <th>99</th>\n",
              "      <td>A000</td>\n",
              "      <td>cholera due vibrio cholerae  biovar cholerae</td>\n",
              "    </tr>\n",
              "  </tbody>\n",
              "</table>\n",
              "<p>100 rows × 2 columns</p>\n",
              "</div>"
            ],
            "text/plain": [
              "     Code                                           Desc\n",
              "0    A001      cholera due vibrio cholerae  biovar eltor\n",
              "1    A009                            cholera unspecified\n",
              "2   A0100                      typhoid fever unspecified\n",
              "3   A0101                             typhoid meningitis\n",
              "4   A0102                typhoid fever heart involvement\n",
              "..    ...                                            ...\n",
              "95  A1809                   musculoskeletal tuberculosis\n",
              "96  A1810  tuberculosis genitourinary system unspecified\n",
              "97  A1811                     tuberculosis kidney ureter\n",
              "98  A1812                           tuberculosis bladder\n",
              "99   A000   cholera due vibrio cholerae  biovar cholerae\n",
              "\n",
              "[100 rows x 2 columns]"
            ]
          },
          "metadata": {},
          "execution_count": 66
        }
      ]
    },
    {
      "cell_type": "code",
      "metadata": {
        "colab": {
          "base_uri": "https://localhost:8080/"
        },
        "id": "1pYEMhdtJR1P",
        "outputId": "9b8edbdb-96d8-4a42-ef4b-c7dfb87f8b59"
      },
      "source": [
        "a"
      ],
      "execution_count": 38,
      "outputs": [
        {
          "output_type": "execute_result",
          "data": {
            "text/plain": [
              "-1"
            ]
          },
          "metadata": {},
          "execution_count": 38
        }
      ]
    },
    {
      "cell_type": "code",
      "metadata": {
        "id": "K4XBvlJfJaMX"
      },
      "source": [
        "pred = np.sort(model.predict(padded), axis=0)\n"
      ],
      "execution_count": 119,
      "outputs": []
    },
    {
      "cell_type": "code",
      "metadata": {
        "colab": {
          "base_uri": "https://localhost:8080/"
        },
        "id": "qzClE7SmM95w",
        "outputId": "57824636-80c5-4941-d653-400196e0fd66"
      },
      "source": [
        "pred"
      ],
      "execution_count": 52,
      "outputs": [
        {
          "output_type": "execute_result",
          "data": {
            "text/plain": [
              "array([[3.03488894e-04, 3.05496760e-05, 6.72448473e-03, 1.14049332e-03,\n",
              "        1.80396549e-02, 2.00151917e-04, 1.82145119e-01, 9.23719909e-03,\n",
              "        1.81447752e-02, 1.13881961e-03, 6.19034236e-03, 1.42686605e-03,\n",
              "        1.19806721e-03, 1.57371932e-03, 1.95452180e-02, 3.87424300e-03,\n",
              "        1.96384368e-04, 9.43932962e-03, 2.02588439e-01, 5.68948919e-03,\n",
              "        2.92839855e-02, 4.06454410e-03, 7.13932910e-04, 7.02986435e-04,\n",
              "        7.98262947e-04, 3.55199067e-04, 4.51816944e-04, 2.32292037e-03,\n",
              "        8.01712449e-04, 7.98477307e-02, 1.07938349e-02, 2.29494017e-05,\n",
              "        1.64632074e-05, 7.19445889e-05, 1.35078517e-04, 2.89244599e-05,\n",
              "        6.87607238e-03, 2.58847926e-04, 1.10505724e-04, 2.18901841e-05,\n",
              "        4.20497381e-05, 1.94018594e-05, 2.82685761e-03, 2.84487638e-03,\n",
              "        1.20775054e-04, 1.14948874e-04, 9.87078674e-05, 2.69135373e-04,\n",
              "        1.97552567e-04, 7.84354706e-05, 7.07242987e-04, 1.29638589e-04,\n",
              "        3.32965021e-04, 1.80184329e-03, 1.68784652e-04, 1.23831793e-03,\n",
              "        6.35840115e-04, 3.20556131e-03, 8.72766483e-04, 2.14980938e-03,\n",
              "        5.20933839e-03, 1.77541375e-03, 1.76380463e-02, 2.71135811e-02,\n",
              "        1.92151722e-02, 1.94986686e-02, 1.06561974e-01, 7.50882609e-05,\n",
              "        7.18512383e-05, 4.46694344e-02, 2.63909169e-04, 3.53686755e-06,\n",
              "        1.26244118e-02, 1.76592954e-02, 2.19228379e-02, 3.05353175e-03,\n",
              "        1.19878659e-05, 2.74842256e-04, 4.43108205e-04, 3.00058164e-03,\n",
              "        1.10219710e-03, 1.89119906e-04, 9.53267328e-04, 5.18412198e-05,\n",
              "        1.23120364e-04, 1.46052131e-04, 1.28312549e-02, 1.94335729e-03,\n",
              "        5.51770325e-04, 5.13139693e-03, 1.91718042e-02, 9.13705153e-04,\n",
              "        1.13141396e-04, 1.03948032e-03, 1.62421656e-03, 4.26343177e-04,\n",
              "        5.41042443e-03, 3.37456004e-04, 7.96152803e-04, 1.69530767e-03]],\n",
              "      dtype=float32)"
            ]
          },
          "metadata": {},
          "execution_count": 52
        }
      ]
    },
    {
      "cell_type": "code",
      "metadata": {
        "id": "IpNywBzTcEq1"
      },
      "source": [
        "i = pred[0][:].tolist()"
      ],
      "execution_count": 59,
      "outputs": []
    },
    {
      "cell_type": "code",
      "metadata": {
        "colab": {
          "base_uri": "https://localhost:8080/"
        },
        "id": "Bkpzi3IGJo6j",
        "outputId": "188fa91a-0856-456a-8016-9646fd94ba04"
      },
      "source": [
        "print(i.sort())"
      ],
      "execution_count": 63,
      "outputs": [
        {
          "output_type": "stream",
          "name": "stdout",
          "text": [
            "None\n"
          ]
        }
      ]
    },
    {
      "cell_type": "code",
      "metadata": {
        "colab": {
          "base_uri": "https://localhost:8080/",
          "height": 206
        },
        "id": "0QWUUGywJ_t4",
        "outputId": "f5203e38-2720-4fe5-c673-b7fadc1e564e"
      },
      "source": [
        "df.head()"
      ],
      "execution_count": 129,
      "outputs": [
        {
          "output_type": "execute_result",
          "data": {
            "text/html": [
              "<div>\n",
              "<style scoped>\n",
              "    .dataframe tbody tr th:only-of-type {\n",
              "        vertical-align: middle;\n",
              "    }\n",
              "\n",
              "    .dataframe tbody tr th {\n",
              "        vertical-align: top;\n",
              "    }\n",
              "\n",
              "    .dataframe thead th {\n",
              "        text-align: right;\n",
              "    }\n",
              "</style>\n",
              "<table border=\"1\" class=\"dataframe\">\n",
              "  <thead>\n",
              "    <tr style=\"text-align: right;\">\n",
              "      <th></th>\n",
              "      <th>Code</th>\n",
              "      <th>Desc</th>\n",
              "    </tr>\n",
              "  </thead>\n",
              "  <tbody>\n",
              "    <tr>\n",
              "      <th>0</th>\n",
              "      <td>A001</td>\n",
              "      <td>cholera due vibrio cholerae  biovar eltor</td>\n",
              "    </tr>\n",
              "    <tr>\n",
              "      <th>1</th>\n",
              "      <td>A009</td>\n",
              "      <td>cholera unspecified</td>\n",
              "    </tr>\n",
              "    <tr>\n",
              "      <th>2</th>\n",
              "      <td>A0100</td>\n",
              "      <td>typhoid fever unspecified</td>\n",
              "    </tr>\n",
              "    <tr>\n",
              "      <th>3</th>\n",
              "      <td>A0101</td>\n",
              "      <td>typhoid meningitis</td>\n",
              "    </tr>\n",
              "    <tr>\n",
              "      <th>4</th>\n",
              "      <td>A0102</td>\n",
              "      <td>typhoid fever heart involvement</td>\n",
              "    </tr>\n",
              "  </tbody>\n",
              "</table>\n",
              "</div>"
            ],
            "text/plain": [
              "    Code                                       Desc\n",
              "0   A001  cholera due vibrio cholerae  biovar eltor\n",
              "1   A009                        cholera unspecified\n",
              "2  A0100                  typhoid fever unspecified\n",
              "3  A0101                         typhoid meningitis\n",
              "4  A0102            typhoid fever heart involvement"
            ]
          },
          "metadata": {},
          "execution_count": 129
        }
      ]
    },
    {
      "cell_type": "code",
      "metadata": {
        "id": "rBm7yWctczxd"
      },
      "source": [
        ""
      ],
      "execution_count": null,
      "outputs": []
    }
  ]
}